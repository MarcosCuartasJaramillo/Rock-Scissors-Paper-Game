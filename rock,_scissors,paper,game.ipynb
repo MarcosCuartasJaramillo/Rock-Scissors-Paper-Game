{
  "nbformat": 4,
  "nbformat_minor": 0,
  "metadata": {
    "colab": {
      "provenance": [],
      "authorship_tag": "ABX9TyMj1HbQe1/064uOhIh05+ct",
      "include_colab_link": true
    },
    "kernelspec": {
      "name": "python3",
      "display_name": "Python 3"
    },
    "language_info": {
      "name": "python"
    }
  },
  "cells": [
    {
      "cell_type": "markdown",
      "metadata": {
        "id": "view-in-github",
        "colab_type": "text"
      },
      "source": [
        "<a href=\"https://colab.research.google.com/github/MarcosCuartasJaramillo/Rock-Scissors-Paper-Game/blob/main/rock%2C_scissors%2Cpaper%2Cgame.ipynb\" target=\"_parent\"><img src=\"https://colab.research.google.com/assets/colab-badge.svg\" alt=\"Open In Colab\"/></a>"
      ]
    },
    {
      "cell_type": "code",
      "execution_count": null,
      "metadata": {
        "colab": {
          "base_uri": "https://localhost:8080/"
        },
        "id": "mUZzhGtk3fEu",
        "outputId": "08c7cf9d-4b53-4e8e-f0ff-a48d1759f9aa"
      },
      "outputs": [
        {
          "output_type": "stream",
          "name": "stdout",
          "text": [
            "enter,scissors,rock, or paper: paper\n",
            "computer wins\n"
          ]
        }
      ],
      "source": [
        "#paper/rock/scissors game\n",
        "import random\n",
        "pc_choice=random.choice(['rock','paper','scissors'])\n",
        "my_choice=input('enter,scissors,rock, or paper: ')\n",
        "if (pc_choice==my_choice):\n",
        "  print('draw')\n",
        "elif (pc_choice=='paper' and my_choice=='rock') or (pc_choice=='scissors' and my_choice=='paper'):\n",
        "  print('computer wins')\n",
        "elif (pc_choice=='scissors' and my_choice=='rock'):\n",
        "  print ('I win')\n",
        "elif (pc_choice=='scissors' and my_choice=='paper'):\n",
        "  print('computer wins')\n",
        "elif (pc_choice=='paper' and my_choice=='scissors'):\n",
        "  print ('I win')\n",
        "elif (pc_choice=='rock' and my_choice=='paper'):\n",
        "  print ('I win')\n",
        "elif (pc_choice=='rock' and my_choice=='scissors'):\n",
        "  print('computer wins')"
      ]
    }
  ]
}